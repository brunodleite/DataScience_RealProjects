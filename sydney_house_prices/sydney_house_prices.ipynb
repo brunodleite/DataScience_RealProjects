{
  "nbformat": 4,
  "nbformat_minor": 0,
  "metadata": {
    "kernelspec": {
      "display_name": "Python 3",
      "language": "python",
      "name": "python3"
    },
    "language_info": {
      "codemirror_mode": {
        "name": "ipython",
        "version": 3
      },
      "file_extension": ".py",
      "mimetype": "text/x-python",
      "name": "python",
      "nbconvert_exporter": "python",
      "pygments_lexer": "ipython3",
      "version": "3.7.0"
    },
    "colab": {
      "name": "sydney_house_prices.ipynb",
      "provenance": [],
      "collapsed_sections": [],
      "include_colab_link": true
    }
  },
  "cells": [
    {
      "cell_type": "markdown",
      "metadata": {
        "id": "view-in-github",
        "colab_type": "text"
      },
      "source": [
        "<a href=\"https://colab.research.google.com/github/brunodleite/DataScience_RealProjects/blob/main/sydney_house_prices.ipynb\" target=\"_parent\"><img src=\"https://colab.research.google.com/assets/colab-badge.svg\" alt=\"Open In Colab\"/></a>"
      ]
    },
    {
      "cell_type": "markdown",
      "metadata": {
        "id": "uLjqsXGsy3DO"
      },
      "source": [
        "# Análise de dados dos imóveis da cidade de Sydney na Austrália: 2000-2019\n",
        "\n",
        "\n",
        "\n",
        "<center><img alt=\"Real Estate\" width=\"10%\" src=\"https://media-exp1.licdn.com/dms/image/C4D0BAQGXit3uM4HaqQ/company-logo_200_200/0/1519864177071?e=2159024400&v=beta&t=71SrmUOHSGXRsdG8pD01jSL27Mz7VJLv6wi3Wemyt1M\"></center>\n",
        "\n",
        "### Descrição: O site [Real Estate](https://www.realestate.com.au/buy) é um dos maiores sites imobiliário da Austrália, onde é possível encontrar imóveis para compra/venda e notícias/dados relacionadas ao mercado imobiliário.\n",
        "\n",
        "### O site possui uma média com mais de 8 milhões de acessos por mês. Nele é possível encontrar casas compartilhadas, divulgar propriedades para alugar, entre outros. \n",
        "\n",
        "### O [Real Estate](https://www.realestate.com.au/buy) pertence ao Grupo REA e foi fundada em 1995, cuja sede encontra-se em Melbourne, Austrália.\n",
        "\n",
        "#### O conjunto de dados estão disponíveis na plataforma [Kaggle](https://www.kaggle.com/mihirhalai/sydney-house-prices).\n",
        "\n",
        "<img alt=\"Sydney\" width=\"80%\" src=\"https://positivoturismo.com.br/wp-content/uploads/2018/04/img_597f7cbb51ad7.png\"></center>\n",
        "\n",
        "### Fontes: \n",
        "\n",
        "\n",
        "*   [Real Estate](https://www.realestate.com.au/buy)\n",
        "*   [Kaggle](https://www.kaggle.com/mihirhalai/sydney-house-prices)\n"
      ]
    },
    {
      "cell_type": "markdown",
      "metadata": {
        "id": "4cOUe18Ky3DK"
      },
      "source": [
        "## Importando bibliotecas"
      ]
    },
    {
      "cell_type": "code",
      "metadata": {
        "id": "A0Hj-y3Ey3DM"
      },
      "source": [
        "# Import das bibliotecas necessárias\n",
        "import pandas as pd\n",
        "import matplotlib.pyplot as plt\n",
        "import seaborn as sns\n",
        "from pywaffle import Waffle\n",
        "%matplotlib inline"
      ],
      "execution_count": 2,
      "outputs": []
    },
    {
      "cell_type": "markdown",
      "metadata": {
        "id": "5twxylnxy3DP"
      },
      "source": [
        "## Obtenção dos Dados\n",
        "\n",
        "Os dados utilizados neste projeto foram obtidos do site [Kaggle](https://www.kaggle.com/mihirhalai/sydney-house-prices), com dados imobiliários da cidade de Sydney de 2000 a 2019.\n",
        "\n",
        "Para a análise inicial, foi realizado o download do seguinte arquivo:\n",
        "\n",
        "\n",
        "*   `sydney_house_prices.zip`"
      ]
    },
    {
      "cell_type": "code",
      "metadata": {
        "id": "Ps6oVWquy3DQ"
      },
      "source": [
        "url = 'https://github.com/brunodleite/DataScience_RealProjects/blob/main/sydney_house_prices/sydney_house_prices.zip?raw=true' \n",
        "df = pd.read_csv(url, compression= 'zip')"
      ],
      "execution_count": 56,
      "outputs": []
    },
    {
      "cell_type": "markdown",
      "metadata": {
        "id": "s6KVYl1V2e2r"
      },
      "source": [
        "## Análise dos Dados"
      ]
    },
    {
      "cell_type": "markdown",
      "metadata": {
        "id": "3zUsQZVd2jTF"
      },
      "source": [
        "**Dicionário das variáveis**\n",
        "\n",
        "* `Date` - Data que a propriedade foi anunciada\n",
        "* `Id` -  Número identificador da propriedade\n",
        "* `suburb` - Subúrbio (bairro) onde a propriedade está localizada\n",
        "* `postalCode` - Código postal onde a propriedade está localizada\n",
        "* `SellPrice` - Valor de venda \n",
        "* `bed` - Número de quartos\n",
        "* `bath` - Número de banheiros\n",
        "* `car` - Tamanho da garagem \n",
        "* `propType` - Tipo de propriedade\n",
        "\n",
        "Antes de iniciar qualquer análise, vamos verificar as extremidades do nosso *dataset*, uma visualização inicial de como os dados estão dispostos."
      ]
    },
    {
      "cell_type": "code",
      "metadata": {
        "scrolled": true,
        "colab": {
          "base_uri": "https://localhost:8080/",
          "height": 206
        },
        "id": "4EE5NdeVy3DW",
        "outputId": "a41df864-8132-42a6-d0e9-4d18da05f579"
      },
      "source": [
        "# Verificando as primeiras 5 entradas\n",
        "df.head()"
      ],
      "execution_count": 57,
      "outputs": [
        {
          "output_type": "execute_result",
          "data": {
            "text/html": [
              "<div>\n",
              "<style scoped>\n",
              "    .dataframe tbody tr th:only-of-type {\n",
              "        vertical-align: middle;\n",
              "    }\n",
              "\n",
              "    .dataframe tbody tr th {\n",
              "        vertical-align: top;\n",
              "    }\n",
              "\n",
              "    .dataframe thead th {\n",
              "        text-align: right;\n",
              "    }\n",
              "</style>\n",
              "<table border=\"1\" class=\"dataframe\">\n",
              "  <thead>\n",
              "    <tr style=\"text-align: right;\">\n",
              "      <th></th>\n",
              "      <th>Date</th>\n",
              "      <th>Id</th>\n",
              "      <th>suburb</th>\n",
              "      <th>postalCode</th>\n",
              "      <th>sellPrice</th>\n",
              "      <th>bed</th>\n",
              "      <th>bath</th>\n",
              "      <th>car</th>\n",
              "      <th>propType</th>\n",
              "    </tr>\n",
              "  </thead>\n",
              "  <tbody>\n",
              "    <tr>\n",
              "      <th>0</th>\n",
              "      <td>2019-06-19</td>\n",
              "      <td>1</td>\n",
              "      <td>Avalon Beach</td>\n",
              "      <td>2107</td>\n",
              "      <td>1210000</td>\n",
              "      <td>4.0</td>\n",
              "      <td>2</td>\n",
              "      <td>2.0</td>\n",
              "      <td>house</td>\n",
              "    </tr>\n",
              "    <tr>\n",
              "      <th>1</th>\n",
              "      <td>2019-06-13</td>\n",
              "      <td>2</td>\n",
              "      <td>Avalon Beach</td>\n",
              "      <td>2107</td>\n",
              "      <td>2250000</td>\n",
              "      <td>4.0</td>\n",
              "      <td>3</td>\n",
              "      <td>4.0</td>\n",
              "      <td>house</td>\n",
              "    </tr>\n",
              "    <tr>\n",
              "      <th>2</th>\n",
              "      <td>2019-06-07</td>\n",
              "      <td>3</td>\n",
              "      <td>Whale Beach</td>\n",
              "      <td>2107</td>\n",
              "      <td>2920000</td>\n",
              "      <td>3.0</td>\n",
              "      <td>3</td>\n",
              "      <td>2.0</td>\n",
              "      <td>house</td>\n",
              "    </tr>\n",
              "    <tr>\n",
              "      <th>3</th>\n",
              "      <td>2019-05-28</td>\n",
              "      <td>4</td>\n",
              "      <td>Avalon Beach</td>\n",
              "      <td>2107</td>\n",
              "      <td>1530000</td>\n",
              "      <td>3.0</td>\n",
              "      <td>1</td>\n",
              "      <td>2.0</td>\n",
              "      <td>house</td>\n",
              "    </tr>\n",
              "    <tr>\n",
              "      <th>4</th>\n",
              "      <td>2019-05-22</td>\n",
              "      <td>5</td>\n",
              "      <td>Whale Beach</td>\n",
              "      <td>2107</td>\n",
              "      <td>8000000</td>\n",
              "      <td>5.0</td>\n",
              "      <td>4</td>\n",
              "      <td>4.0</td>\n",
              "      <td>house</td>\n",
              "    </tr>\n",
              "  </tbody>\n",
              "</table>\n",
              "</div>"
            ],
            "text/plain": [
              "         Date  Id        suburb  postalCode  sellPrice  bed  bath  car propType\n",
              "0  2019-06-19   1  Avalon Beach        2107    1210000  4.0     2  2.0    house\n",
              "1  2019-06-13   2  Avalon Beach        2107    2250000  4.0     3  4.0    house\n",
              "2  2019-06-07   3   Whale Beach        2107    2920000  3.0     3  2.0    house\n",
              "3  2019-05-28   4  Avalon Beach        2107    1530000  3.0     1  2.0    house\n",
              "4  2019-05-22   5   Whale Beach        2107    8000000  5.0     4  4.0    house"
            ]
          },
          "metadata": {},
          "execution_count": 57
        }
      ]
    },
    {
      "cell_type": "code",
      "metadata": {
        "colab": {
          "base_uri": "https://localhost:8080/",
          "height": 206
        },
        "id": "A23Fbjty2eog",
        "outputId": "f2a7d8ba-289f-45e7-e658-431091fbdeba"
      },
      "source": [
        "# Verificando as ultimas 5 entradas\n",
        "df.tail()"
      ],
      "execution_count": 5,
      "outputs": [
        {
          "output_type": "execute_result",
          "data": {
            "text/html": [
              "<div>\n",
              "<style scoped>\n",
              "    .dataframe tbody tr th:only-of-type {\n",
              "        vertical-align: middle;\n",
              "    }\n",
              "\n",
              "    .dataframe tbody tr th {\n",
              "        vertical-align: top;\n",
              "    }\n",
              "\n",
              "    .dataframe thead th {\n",
              "        text-align: right;\n",
              "    }\n",
              "</style>\n",
              "<table border=\"1\" class=\"dataframe\">\n",
              "  <thead>\n",
              "    <tr style=\"text-align: right;\">\n",
              "      <th></th>\n",
              "      <th>Date</th>\n",
              "      <th>Id</th>\n",
              "      <th>suburb</th>\n",
              "      <th>postalCode</th>\n",
              "      <th>sellPrice</th>\n",
              "      <th>bed</th>\n",
              "      <th>bath</th>\n",
              "      <th>car</th>\n",
              "      <th>propType</th>\n",
              "    </tr>\n",
              "  </thead>\n",
              "  <tbody>\n",
              "    <tr>\n",
              "      <th>199499</th>\n",
              "      <td>2014-06-20</td>\n",
              "      <td>199500</td>\n",
              "      <td>Illawong</td>\n",
              "      <td>2234</td>\n",
              "      <td>1900000</td>\n",
              "      <td>5.0</td>\n",
              "      <td>3</td>\n",
              "      <td>7.0</td>\n",
              "      <td>house</td>\n",
              "    </tr>\n",
              "    <tr>\n",
              "      <th>199500</th>\n",
              "      <td>2014-05-26</td>\n",
              "      <td>199501</td>\n",
              "      <td>Illawong</td>\n",
              "      <td>2234</td>\n",
              "      <td>980000</td>\n",
              "      <td>4.0</td>\n",
              "      <td>3</td>\n",
              "      <td>2.0</td>\n",
              "      <td>house</td>\n",
              "    </tr>\n",
              "    <tr>\n",
              "      <th>199501</th>\n",
              "      <td>2014-04-17</td>\n",
              "      <td>199502</td>\n",
              "      <td>Alfords Point</td>\n",
              "      <td>2234</td>\n",
              "      <td>850000</td>\n",
              "      <td>4.0</td>\n",
              "      <td>2</td>\n",
              "      <td>2.0</td>\n",
              "      <td>house</td>\n",
              "    </tr>\n",
              "    <tr>\n",
              "      <th>199502</th>\n",
              "      <td>2013-09-07</td>\n",
              "      <td>199503</td>\n",
              "      <td>Illawong</td>\n",
              "      <td>2234</td>\n",
              "      <td>640000</td>\n",
              "      <td>3.0</td>\n",
              "      <td>2</td>\n",
              "      <td>2.0</td>\n",
              "      <td>townhouse</td>\n",
              "    </tr>\n",
              "    <tr>\n",
              "      <th>199503</th>\n",
              "      <td>2011-04-16</td>\n",
              "      <td>199504</td>\n",
              "      <td>Alfords Point</td>\n",
              "      <td>2234</td>\n",
              "      <td>1611000</td>\n",
              "      <td>5.0</td>\n",
              "      <td>4</td>\n",
              "      <td>3.0</td>\n",
              "      <td>house</td>\n",
              "    </tr>\n",
              "  </tbody>\n",
              "</table>\n",
              "</div>"
            ],
            "text/plain": [
              "              Date      Id         suburb  ...  bath  car   propType\n",
              "199499  2014-06-20  199500       Illawong  ...     3  7.0      house\n",
              "199500  2014-05-26  199501       Illawong  ...     3  2.0      house\n",
              "199501  2014-04-17  199502  Alfords Point  ...     2  2.0      house\n",
              "199502  2013-09-07  199503       Illawong  ...     2  2.0  townhouse\n",
              "199503  2011-04-16  199504  Alfords Point  ...     4  3.0      house\n",
              "\n",
              "[5 rows x 9 columns]"
            ]
          },
          "metadata": {},
          "execution_count": 5
        }
      ]
    },
    {
      "cell_type": "code",
      "metadata": {
        "colab": {
          "base_uri": "https://localhost:8080/",
          "height": 206
        },
        "id": "QRElP_fT6ny8",
        "outputId": "25c05817-a3cf-4182-87f1-624cab599f0b"
      },
      "source": [
        "# Verificando uma amostra aleatória com 5 entradas\n",
        "df.sample(5)"
      ],
      "execution_count": 6,
      "outputs": [
        {
          "output_type": "execute_result",
          "data": {
            "text/html": [
              "<div>\n",
              "<style scoped>\n",
              "    .dataframe tbody tr th:only-of-type {\n",
              "        vertical-align: middle;\n",
              "    }\n",
              "\n",
              "    .dataframe tbody tr th {\n",
              "        vertical-align: top;\n",
              "    }\n",
              "\n",
              "    .dataframe thead th {\n",
              "        text-align: right;\n",
              "    }\n",
              "</style>\n",
              "<table border=\"1\" class=\"dataframe\">\n",
              "  <thead>\n",
              "    <tr style=\"text-align: right;\">\n",
              "      <th></th>\n",
              "      <th>Date</th>\n",
              "      <th>Id</th>\n",
              "      <th>suburb</th>\n",
              "      <th>postalCode</th>\n",
              "      <th>sellPrice</th>\n",
              "      <th>bed</th>\n",
              "      <th>bath</th>\n",
              "      <th>car</th>\n",
              "      <th>propType</th>\n",
              "    </tr>\n",
              "  </thead>\n",
              "  <tbody>\n",
              "    <tr>\n",
              "      <th>131080</th>\n",
              "      <td>2019-07-05</td>\n",
              "      <td>131081</td>\n",
              "      <td>Edmondson Park</td>\n",
              "      <td>2174</td>\n",
              "      <td>775000</td>\n",
              "      <td>4.0</td>\n",
              "      <td>2</td>\n",
              "      <td>2.0</td>\n",
              "      <td>house</td>\n",
              "    </tr>\n",
              "    <tr>\n",
              "      <th>80002</th>\n",
              "      <td>2016-05-17</td>\n",
              "      <td>80003</td>\n",
              "      <td>North Parramatta</td>\n",
              "      <td>2151</td>\n",
              "      <td>840000</td>\n",
              "      <td>2.0</td>\n",
              "      <td>1</td>\n",
              "      <td>2.0</td>\n",
              "      <td>house</td>\n",
              "    </tr>\n",
              "    <tr>\n",
              "      <th>105387</th>\n",
              "      <td>2013-04-05</td>\n",
              "      <td>105388</td>\n",
              "      <td>Concord West</td>\n",
              "      <td>2138</td>\n",
              "      <td>1160000</td>\n",
              "      <td>4.0</td>\n",
              "      <td>2</td>\n",
              "      <td>1.0</td>\n",
              "      <td>house</td>\n",
              "    </tr>\n",
              "    <tr>\n",
              "      <th>146128</th>\n",
              "      <td>2013-12-14</td>\n",
              "      <td>146129</td>\n",
              "      <td>North Narrabeen</td>\n",
              "      <td>2101</td>\n",
              "      <td>810000</td>\n",
              "      <td>3.0</td>\n",
              "      <td>1</td>\n",
              "      <td>2.0</td>\n",
              "      <td>house</td>\n",
              "    </tr>\n",
              "    <tr>\n",
              "      <th>128820</th>\n",
              "      <td>2017-03-29</td>\n",
              "      <td>128821</td>\n",
              "      <td>Guildford</td>\n",
              "      <td>2161</td>\n",
              "      <td>990000</td>\n",
              "      <td>5.0</td>\n",
              "      <td>2</td>\n",
              "      <td>2.0</td>\n",
              "      <td>house</td>\n",
              "    </tr>\n",
              "  </tbody>\n",
              "</table>\n",
              "</div>"
            ],
            "text/plain": [
              "              Date      Id            suburb  ...  bath  car  propType\n",
              "131080  2019-07-05  131081    Edmondson Park  ...     2  2.0     house\n",
              "80002   2016-05-17   80003  North Parramatta  ...     1  2.0     house\n",
              "105387  2013-04-05  105388      Concord West  ...     2  1.0     house\n",
              "146128  2013-12-14  146129   North Narrabeen  ...     1  2.0     house\n",
              "128820  2017-03-29  128821         Guildford  ...     2  2.0     house\n",
              "\n",
              "[5 rows x 9 columns]"
            ]
          },
          "metadata": {},
          "execution_count": 6
        }
      ]
    },
    {
      "cell_type": "markdown",
      "source": [
        "Com o intuito de deixar a análise de dados mais didática, foram realizados algumas perguntas aos dados para uma melhor extração de informações valiosas"
      ],
      "metadata": {
        "id": "i8CxwC0piQQz"
      }
    },
    {
      "cell_type": "markdown",
      "metadata": {
        "id": "ru2Kxd3A8tag"
      },
      "source": [
        "### **Quantos atributos (variáveis) e quantas entradas o nosso conjunto de dados possui? Quais os tipos das variáveis?**\n",
        "Nosso dataframe é composto por **9 variáveis** e **199504 entradas**. As variáveis são dos seguintes tipos: **int64, object** e **float64**."
      ]
    },
    {
      "cell_type": "code",
      "metadata": {
        "colab": {
          "base_uri": "https://localhost:8080/",
          "height": 243
        },
        "id": "xzBizl2w8yzD",
        "outputId": "fdaa2c19-bf06-4011-9381-a9420b9ed297"
      },
      "source": [
        "# identificação do volume de dados do DataFrame\n",
        "print(\"Qtd de atributos: \\t {}\".format(df.shape[1]))\n",
        "print(\"Qtd de entradas:\\t {}\\n\".format(df.shape[0]))\n",
        "\n",
        "# verificação dos tipos de variáveis que compõe o dataframe\n",
        "display(df.dtypes)"
      ],
      "execution_count": 7,
      "outputs": [
        {
          "output_type": "stream",
          "name": "stdout",
          "text": [
            "Qtd de atributos: \t 9\n",
            "Qtd de entradas:\t 199504\n",
            "\n"
          ]
        },
        {
          "output_type": "display_data",
          "data": {
            "text/plain": [
              "Date           object\n",
              "Id              int64\n",
              "suburb         object\n",
              "postalCode      int64\n",
              "sellPrice       int64\n",
              "bed           float64\n",
              "bath            int64\n",
              "car           float64\n",
              "propType       object\n",
              "dtype: object"
            ]
          },
          "metadata": {}
        }
      ]
    },
    {
      "cell_type": "markdown",
      "metadata": {
        "id": "PK9ilP_89mbi"
      },
      "source": [
        "### **Qual a porcentagem de valores ausentes no *dataset*?**\n",
        "Podemos verificar que as variáveis `car` e `bed` possuem alguns valores ausentes. Sendo 9% de valores ausentes correspondendo à variável `car` e 0,08% de valores ausentes correspondendo à variável `bed`."
      ]
    },
    {
      "cell_type": "code",
      "metadata": {
        "colab": {
          "base_uri": "https://localhost:8080/"
        },
        "id": "dBc_XTDk9plb",
        "outputId": "6694932a-038c-4e72-8667-9230ea323e49"
      },
      "source": [
        "# ordenando em ordem decrescente as variáveis através dos seus valores ausentes\n",
        "(df.isnull().sum() / df.shape[0]).sort_values(ascending=False)"
      ],
      "execution_count": 8,
      "outputs": [
        {
          "output_type": "execute_result",
          "data": {
            "text/plain": [
              "car           0.090981\n",
              "bed           0.000772\n",
              "propType      0.000000\n",
              "bath          0.000000\n",
              "sellPrice     0.000000\n",
              "postalCode    0.000000\n",
              "suburb        0.000000\n",
              "Id            0.000000\n",
              "Date          0.000000\n",
              "dtype: float64"
            ]
          },
          "metadata": {},
          "execution_count": 8
        }
      ]
    },
    {
      "cell_type": "markdown",
      "metadata": {
        "id": "pL5tPT7WTIxz"
      },
      "source": [
        "### **Qual o tipo de distribuição das variáveis?** \n",
        "É importante realizar o plot das distribuições dos atributos do dataset, para que seja possível verificar se há discrepância em alguns atributos. Como exemplo, de cara podemos verificar que as variáveis `sellPrice`, `bed`, `bath`, `car` que vamos trabalhar nesse projeto possuem valores discrepantes (outliers).\n"
      ]
    },
    {
      "cell_type": "code",
      "metadata": {
        "colab": {
          "base_uri": "https://localhost:8080/",
          "height": 531
        },
        "id": "IZR33KznTNq3",
        "outputId": "68ad52e4-4127-4ce2-bbaa-638d38bc872a"
      },
      "source": [
        "df.hist(bins=15, figsize=(16,10), color='teal');"
      ],
      "execution_count": 9,
      "outputs": [
        {
          "output_type": "display_data",
          "data": {
            "image/png": "[encoded data removed]",
            "text/plain": [
              "<Figure size 1152x720 with 6 Axes>"
            ]
          },
          "metadata": {
            "needs_background": "light"
          }
        }
      ]
    },
    {
      "cell_type": "markdown",
      "source": [
        "### **Existe a presença de *outliers* em nosso dataset?**"
      ],
      "metadata": {
        "id": "4foZQasUVWsX"
      }
    },
    {
      "cell_type": "markdown",
      "source": [
        "A partir da análise gráfica acima, verificamos as variáveis que vamos trabalhar não seguem uma distribuição, vamos confirmar a partir de uma análise descritiva."
      ],
      "metadata": {
        "id": "-DF3IjnAVrVi"
      }
    },
    {
      "cell_type": "code",
      "metadata": {
        "colab": {
          "base_uri": "https://localhost:8080/",
          "height": 300
        },
        "id": "6szHOOAgU6jA",
        "outputId": "203468e8-5287-45a5-ba2e-7ffd1c867b4c"
      },
      "source": [
        "# Estatística descritiva das variáveis numericas\n",
        "df[['sellPrice', 'bed', 'bath', 'car']].describe()"
      ],
      "execution_count": 10,
      "outputs": [
        {
          "output_type": "execute_result",
          "data": {
            "text/html": [
              "<div>\n",
              "<style scoped>\n",
              "    .dataframe tbody tr th:only-of-type {\n",
              "        vertical-align: middle;\n",
              "    }\n",
              "\n",
              "    .dataframe tbody tr th {\n",
              "        vertical-align: top;\n",
              "    }\n",
              "\n",
              "    .dataframe thead th {\n",
              "        text-align: right;\n",
              "    }\n",
              "</style>\n",
              "<table border=\"1\" class=\"dataframe\">\n",
              "  <thead>\n",
              "    <tr style=\"text-align: right;\">\n",
              "      <th></th>\n",
              "      <th>sellPrice</th>\n",
              "      <th>bed</th>\n",
              "      <th>bath</th>\n",
              "      <th>car</th>\n",
              "    </tr>\n",
              "  </thead>\n",
              "  <tbody>\n",
              "    <tr>\n",
              "      <th>count</th>\n",
              "      <td>1.995040e+05</td>\n",
              "      <td>199350.000000</td>\n",
              "      <td>199504.000000</td>\n",
              "      <td>181353.000000</td>\n",
              "    </tr>\n",
              "    <tr>\n",
              "      <th>mean</th>\n",
              "      <td>1.269776e+06</td>\n",
              "      <td>3.516479</td>\n",
              "      <td>1.890669</td>\n",
              "      <td>1.936224</td>\n",
              "    </tr>\n",
              "    <tr>\n",
              "      <th>std</th>\n",
              "      <td>6.948239e+06</td>\n",
              "      <td>1.066555</td>\n",
              "      <td>0.926001</td>\n",
              "      <td>1.060237</td>\n",
              "    </tr>\n",
              "    <tr>\n",
              "      <th>min</th>\n",
              "      <td>1.000000e+00</td>\n",
              "      <td>1.000000</td>\n",
              "      <td>1.000000</td>\n",
              "      <td>1.000000</td>\n",
              "    </tr>\n",
              "    <tr>\n",
              "      <th>25%</th>\n",
              "      <td>7.200000e+05</td>\n",
              "      <td>3.000000</td>\n",
              "      <td>1.000000</td>\n",
              "      <td>1.000000</td>\n",
              "    </tr>\n",
              "    <tr>\n",
              "      <th>50%</th>\n",
              "      <td>9.850000e+05</td>\n",
              "      <td>3.000000</td>\n",
              "      <td>2.000000</td>\n",
              "      <td>2.000000</td>\n",
              "    </tr>\n",
              "    <tr>\n",
              "      <th>75%</th>\n",
              "      <td>1.475000e+06</td>\n",
              "      <td>4.000000</td>\n",
              "      <td>2.000000</td>\n",
              "      <td>2.000000</td>\n",
              "    </tr>\n",
              "    <tr>\n",
              "      <th>max</th>\n",
              "      <td>2.147484e+09</td>\n",
              "      <td>99.000000</td>\n",
              "      <td>99.000000</td>\n",
              "      <td>41.000000</td>\n",
              "    </tr>\n",
              "  </tbody>\n",
              "</table>\n",
              "</div>"
            ],
            "text/plain": [
              "          sellPrice            bed           bath            car\n",
              "count  1.995040e+05  199350.000000  199504.000000  181353.000000\n",
              "mean   1.269776e+06       3.516479       1.890669       1.936224\n",
              "std    6.948239e+06       1.066555       0.926001       1.060237\n",
              "min    1.000000e+00       1.000000       1.000000       1.000000\n",
              "25%    7.200000e+05       3.000000       1.000000       1.000000\n",
              "50%    9.850000e+05       3.000000       2.000000       2.000000\n",
              "75%    1.475000e+06       4.000000       2.000000       2.000000\n",
              "max    2.147484e+09      99.000000      99.000000      41.000000"
            ]
          },
          "metadata": {},
          "execution_count": 10
        }
      ]
    },
    {
      "cell_type": "markdown",
      "source": [
        "Partindo do resumo estatístico acima, podemos verificar que existem outliers, focando no terceiro quartil e no valor máx:\n",
        "\n",
        "\n",
        "*   a variável `sellPrice` possui uma média de AUD 1.269.776 (dólares australianos), com 75% dos valores abaixo de AUD 1.475.000. O valor máximo corresponde a um valor extremamente alto.\n",
        "\n",
        "*   a variável `bed` possui uma média de 3.51, com 75% dos valores abaixo de 4 nº de quartos. O valor máximo corresponde a 99.\n",
        "\n",
        "*   a variável `bath` possui uma média de 1.89 , com 75% dos valores abaixo de 2 nº de banheiros. O valor máximo corresponde a 99.\n",
        "\n",
        "*   a variável `car` possui uma média de 1.93 , com 75% dos valores abaixo de 2 nº de carros. O valor máximo corresponde a 41."
      ],
      "metadata": {
        "id": "bBYeQxiqWdzs"
      }
    },
    {
      "cell_type": "markdown",
      "source": [
        "**Boxplot da variável sellPrice**  "
      ],
      "metadata": {
        "id": "MYJhXZ5veXzp"
      }
    },
    {
      "cell_type": "code",
      "metadata": {
        "colab": {
          "base_uri": "https://localhost:8080/",
          "height": 277
        },
        "id": "7SanJzpiXqvg",
        "outputId": "ca71f3fc-07c9-4cae-c90a-d22f1bda5f31"
      },
      "source": [
        "# boxplot sellPrice\n",
        "df.sellPrice.plot.box( vert=False, figsize=(15,3))\n",
        "plt.xlim(0,2*10**7)\n",
        "plt.show()\n",
        "\n",
        "# verificar quantidade de valores acima de 12,5 1e7 para a variável sellPrice\n",
        "valor = 0.25*10**7\n",
        "print(\"\\nsellPrice: valores acima de 0.25 e+07 (2.5 milhões)\")\n",
        "print(\"{} entradas\".format(len(df[df.sellPrice > valor])))\n",
        "print(\"{:.4f}%\".format((len(df[df.sellPrice >  valor]) / df.shape[0])*100))"
      ],
      "execution_count": 11,
      "outputs": [
        {
          "output_type": "display_data",
          "data": {
            "image/png": "[encoded data removed]",
            "text/plain": [
              "<Figure size 1080x216 with 1 Axes>"
            ]
          },
          "metadata": {
            "needs_background": "light"
          }
        },
        {
          "output_type": "stream",
          "name": "stdout",
          "text": [
            "\n",
            "sellPrice: valores acima de 0.25 e+07 (2.5 milhões)\n",
            "12941 entradas\n",
            "6.4866%\n"
          ]
        }
      ]
    },
    {
      "cell_type": "markdown",
      "source": [
        "Podemos verificar que acima de **2.5 milhões de dólares australianos** há muitos valores discrepantes, que correspondem a **6.48%** das nossas entradas da variável **sellPrice**"
      ],
      "metadata": {
        "id": "2vt0HBhAjX4j"
      }
    },
    {
      "cell_type": "markdown",
      "source": [
        "**Boxplot da variável bed**  "
      ],
      "metadata": {
        "id": "60E6oFYnk2kM"
      }
    },
    {
      "cell_type": "code",
      "source": [
        "# boxplot bed\n",
        "df.bed.plot.box( vert=False, figsize=(15,3))\n",
        "plt.show()\n",
        "\n",
        "# verificar quantidade de valores acima de 6 quartos da variável bed\n",
        "valor = 6\n",
        "print(\"\\nbed: valores acima de 6 quartos\")\n",
        "print(\"{} entradas\".format(len(df[df.bed > valor])))\n",
        "print(\"{:.4f}%\".format((len(df[df.bed >  valor]) / df.shape[0])*100))"
      ],
      "metadata": {
        "colab": {
          "base_uri": "https://localhost:8080/",
          "height": 272
        },
        "id": "eDzO8HL6k59I",
        "outputId": "d742a2a3-3207-4824-e55c-9997436725cf"
      },
      "execution_count": 12,
      "outputs": [
        {
          "output_type": "display_data",
          "data": {
            "image/png": "[encoded data removed]",
            "text/plain": [
              "<Figure size 1080x216 with 1 Axes>"
            ]
          },
          "metadata": {
            "needs_background": "light"
          }
        },
        {
          "output_type": "stream",
          "name": "stdout",
          "text": [
            "\n",
            "bed: valores acima de 6 quartos\n",
            "1328 entradas\n",
            "0.6657%\n"
          ]
        }
      ]
    },
    {
      "cell_type": "markdown",
      "source": [
        "Podemos verificar que acima de **6 quartos** há alguns valores discrepantes, que correspondem a **0,66%** das nossas entradas da variável **bed**"
      ],
      "metadata": {
        "id": "7-4Yr9q_lgch"
      }
    },
    {
      "cell_type": "markdown",
      "source": [
        "**Boxplot da variável bath**  "
      ],
      "metadata": {
        "id": "lt-VP_LdlziA"
      }
    },
    {
      "cell_type": "code",
      "source": [
        "# boxplot bath\n",
        "df.bath.plot.box( vert=False, figsize=(15,3))\n",
        "plt.show()\n",
        "\n",
        "# verificar quantidade de valores acima de 4 banheiros da variável bath\n",
        "valor = 4\n",
        "print(\"\\nbath: valores acima de 4 banheiros\")\n",
        "print(\"{} entradas\".format(len(df[df.bath > valor])))\n",
        "print(\"{:.4f}%\".format((len(df[df.bath >  valor]) / df.shape[0])*100))"
      ],
      "metadata": {
        "colab": {
          "base_uri": "https://localhost:8080/",
          "height": 271
        },
        "id": "RenNAkxLl2Iw",
        "outputId": "5adac1a0-d5fc-40d5-bf7e-ea59d90fed60"
      },
      "execution_count": 13,
      "outputs": [
        {
          "output_type": "display_data",
          "data": {
            "image/png": "[encoded data removed]",
            "text/plain": [
              "<Figure size 1080x216 with 1 Axes>"
            ]
          },
          "metadata": {
            "needs_background": "light"
          }
        },
        {
          "output_type": "stream",
          "name": "stdout",
          "text": [
            "\n",
            "bath: valores acima de 4 banheiros\n",
            "2008 entradas\n",
            "1.0065%\n"
          ]
        }
      ]
    },
    {
      "cell_type": "markdown",
      "source": [
        "Podemos verificar que acima de **4 banheiros** há alguns valores discrepantes, que correspondem a **1,00%** das nossas entradas da variável **bath**"
      ],
      "metadata": {
        "id": "M9NfuXqknIER"
      }
    },
    {
      "cell_type": "markdown",
      "source": [
        "**Boxplot da variável car**  "
      ],
      "metadata": {
        "id": "zoFp1AQFnQ5a"
      }
    },
    {
      "cell_type": "code",
      "source": [
        "# boxplot car\n",
        "df.car.plot.box( vert=False, figsize=(15,3))\n",
        "plt.show()\n",
        "\n",
        "# verificar quantidade de valores acima de 4 carros da variável car\n",
        "valor = 4\n",
        "print(\"\\ncar: valores acima de 4 carros\")\n",
        "print(\"{} entradas\".format(len(df[df.car > valor])))\n",
        "print(\"{:.4f}%\".format((len(df[df.car >  valor]) / df.shape[0])*100))"
      ],
      "metadata": {
        "colab": {
          "base_uri": "https://localhost:8080/",
          "height": 272
        },
        "id": "NBq5LpfRnScz",
        "outputId": "439c9f47-137c-4090-b88d-c743acbaedf5"
      },
      "execution_count": 14,
      "outputs": [
        {
          "output_type": "display_data",
          "data": {
            "image/png": "[encoded data removed]",
            "text/plain": [
              "<Figure size 1080x216 with 1 Axes>"
            ]
          },
          "metadata": {
            "needs_background": "light"
          }
        },
        {
          "output_type": "stream",
          "name": "stdout",
          "text": [
            "\n",
            "car: valores acima de 4 carros\n",
            "3941 entradas\n",
            "1.9754%\n"
          ]
        }
      ]
    },
    {
      "cell_type": "markdown",
      "source": [
        "Podemos verificar que acima de **4 carros** há alguns valores discrepantes, que correspondem a **1,97%** das nossas entradas da variável **car**"
      ],
      "metadata": {
        "id": "tNuJ1Wg8n9mp"
      }
    },
    {
      "cell_type": "markdown",
      "source": [
        "Após realizar o tratamento dos outliers, foi plotado novamente o histograma para verificar a distribuição das variáveis."
      ],
      "metadata": {
        "id": "yVxmO6s0oR0F"
      }
    },
    {
      "cell_type": "code",
      "source": [
        "valor1 = 0.25*10**7\n",
        "df_clean = df.copy()\n",
        "df_clean.drop(df_clean[df_clean.sellPrice > valor1].index, axis=0, inplace=True)\n",
        "df_clean.drop(df_clean[df_clean.bed > 6].index, axis=0, inplace=True)\n",
        "df_clean.drop(df_clean[df_clean.bath > 4].index, axis=0, inplace=True)\n",
        "df_clean.drop(df_clean[df_clean.car > 4].index, axis=0, inplace=True)\n",
        "\n",
        "#plotando o histograma para as variáveis numéricas\n",
        "df_clean.hist(bins=15, figsize=(15,10), color='teal');"
      ],
      "metadata": {
        "colab": {
          "base_uri": "https://localhost:8080/",
          "height": 567
        },
        "id": "NQpexYVUoSKP",
        "outputId": "9fe02ef8-55e7-4fc6-f414-11ffd3ce5e95"
      },
      "execution_count": 15,
      "outputs": [
        {
          "output_type": "display_data",
          "data": {
            "image/png": "[encoded data removed]",
            "text/plain": [
              "<Figure size 1080x720 with 6 Axes>"
            ]
          },
          "metadata": {
            "needs_background": "light"
          }
        }
      ]
    },
    {
      "cell_type": "markdown",
      "source": [
        "É possível observar que na variável `sellPrice` a maior parte dos preços se localizam no intervalo entre AUD 500.000,00 a AUD 1.500.000,00. \n",
        "\n",
        "Com os dados relativamente ajustados é possível extrair melhor as informações valiosas."
      ],
      "metadata": {
        "id": "tcmsA14skpLp"
      }
    },
    {
      "cell_type": "markdown",
      "source": [
        "### **Qual a média dos preços dos imóveis?**"
      ],
      "metadata": {
        "id": "lY6aV5z_mPbY"
      }
    },
    {
      "cell_type": "code",
      "source": [
        "# verificar média de preço da coluna sellPrice\n",
        "media = df_clean['sellPrice'].mean()\n",
        "print('Média de preço em Dólares Australianos (AUD): {}'.format(round(media,2)))"
      ],
      "metadata": {
        "colab": {
          "base_uri": "https://localhost:8080/"
        },
        "id": "JjiGioAYmYN5",
        "outputId": "9612d92a-df5c-4ef3-fcff-4fcd20b1a996"
      },
      "execution_count": 16,
      "outputs": [
        {
          "output_type": "stream",
          "name": "stdout",
          "text": [
            "Média de preço em Dólares Australianos (AUD): 1061779.52\n"
          ]
        }
      ]
    },
    {
      "cell_type": "markdown",
      "source": [
        "A média dos preços da propriedades corresponde a AUD 1.061.779,52"
      ],
      "metadata": {
        "id": "cCvj9k93o-UH"
      }
    },
    {
      "cell_type": "markdown",
      "source": [
        "### Qual o comportamento dos preços no decorrer dos anos?"
      ],
      "metadata": {
        "id": "g_cPY6bMqzTH"
      }
    },
    {
      "cell_type": "markdown",
      "source": [
        "Primeiro foi necessário realizar alguns ajustes para realizar o plot do gráfico temporal."
      ],
      "metadata": {
        "id": "7L2b45bqq4Bu"
      }
    },
    {
      "cell_type": "code",
      "source": [
        "# Separando o ano da data completa e criando uma nova coluna apenas com a variável ano\n",
        "date = df_clean['Date']\n",
        "\n",
        "ano = [a.split('-')[0] for a in date]\n",
        "df_clean['Year'] = ano"
      ],
      "metadata": {
        "id": "zoNVDUf1wk3-"
      },
      "execution_count": 49,
      "outputs": []
    },
    {
      "cell_type": "code",
      "source": [
        "df_clean.sample(5)"
      ],
      "metadata": {
        "colab": {
          "base_uri": "https://localhost:8080/",
          "height": 206
        },
        "id": "mOOcNlZs2F9n",
        "outputId": "e3d8a20f-142e-4507-bbd5-46e56ccf184c"
      },
      "execution_count": 50,
      "outputs": [
        {
          "output_type": "execute_result",
          "data": {
            "text/html": [
              "<div>\n",
              "<style scoped>\n",
              "    .dataframe tbody tr th:only-of-type {\n",
              "        vertical-align: middle;\n",
              "    }\n",
              "\n",
              "    .dataframe tbody tr th {\n",
              "        vertical-align: top;\n",
              "    }\n",
              "\n",
              "    .dataframe thead th {\n",
              "        text-align: right;\n",
              "    }\n",
              "</style>\n",
              "<table border=\"1\" class=\"dataframe\">\n",
              "  <thead>\n",
              "    <tr style=\"text-align: right;\">\n",
              "      <th></th>\n",
              "      <th>Date</th>\n",
              "      <th>Id</th>\n",
              "      <th>suburb</th>\n",
              "      <th>postalCode</th>\n",
              "      <th>sellPrice</th>\n",
              "      <th>bed</th>\n",
              "      <th>bath</th>\n",
              "      <th>car</th>\n",
              "      <th>propType</th>\n",
              "      <th>Year</th>\n",
              "    </tr>\n",
              "  </thead>\n",
              "  <tbody>\n",
              "    <tr>\n",
              "      <th>21960</th>\n",
              "      <td>2017-06-16</td>\n",
              "      <td>21961</td>\n",
              "      <td>Marrickville</td>\n",
              "      <td>2204</td>\n",
              "      <td>1775000</td>\n",
              "      <td>5.0</td>\n",
              "      <td>1</td>\n",
              "      <td>NaN</td>\n",
              "      <td>house</td>\n",
              "      <td>2017</td>\n",
              "    </tr>\n",
              "    <tr>\n",
              "      <th>19879</th>\n",
              "      <td>2015-09-12</td>\n",
              "      <td>19880</td>\n",
              "      <td>Beacon Hill</td>\n",
              "      <td>2100</td>\n",
              "      <td>1750000</td>\n",
              "      <td>3.0</td>\n",
              "      <td>1</td>\n",
              "      <td>1.0</td>\n",
              "      <td>house</td>\n",
              "      <td>2015</td>\n",
              "    </tr>\n",
              "    <tr>\n",
              "      <th>132914</th>\n",
              "      <td>2014-08-01</td>\n",
              "      <td>132915</td>\n",
              "      <td>Haberfield</td>\n",
              "      <td>2045</td>\n",
              "      <td>1560000</td>\n",
              "      <td>3.0</td>\n",
              "      <td>1</td>\n",
              "      <td>2.0</td>\n",
              "      <td>house</td>\n",
              "      <td>2014</td>\n",
              "    </tr>\n",
              "    <tr>\n",
              "      <th>154268</th>\n",
              "      <td>2014-12-12</td>\n",
              "      <td>154269</td>\n",
              "      <td>Yagoona</td>\n",
              "      <td>2199</td>\n",
              "      <td>590000</td>\n",
              "      <td>2.0</td>\n",
              "      <td>1</td>\n",
              "      <td>1.0</td>\n",
              "      <td>house</td>\n",
              "      <td>2014</td>\n",
              "    </tr>\n",
              "    <tr>\n",
              "      <th>195805</th>\n",
              "      <td>2015-05-13</td>\n",
              "      <td>195806</td>\n",
              "      <td>Balgowlah</td>\n",
              "      <td>2093</td>\n",
              "      <td>1425000</td>\n",
              "      <td>3.0</td>\n",
              "      <td>2</td>\n",
              "      <td>2.0</td>\n",
              "      <td>house</td>\n",
              "      <td>2015</td>\n",
              "    </tr>\n",
              "  </tbody>\n",
              "</table>\n",
              "</div>"
            ],
            "text/plain": [
              "              Date      Id        suburb  postalCode  ...  bath  car  propType  Year\n",
              "21960   2017-06-16   21961  Marrickville        2204  ...     1  NaN     house  2017\n",
              "19879   2015-09-12   19880   Beacon Hill        2100  ...     1  1.0     house  2015\n",
              "132914  2014-08-01  132915    Haberfield        2045  ...     1  2.0     house  2014\n",
              "154268  2014-12-12  154269       Yagoona        2199  ...     1  1.0     house  2014\n",
              "195805  2015-05-13  195806     Balgowlah        2093  ...     2  2.0     house  2015\n",
              "\n",
              "[5 rows x 10 columns]"
            ]
          },
          "metadata": {},
          "execution_count": 50
        }
      ]
    },
    {
      "cell_type": "code",
      "source": [
        "sns.lineplot(data=df_clean, x ='Year',y ='sellPrice')\n",
        "plt.title (\"Comportamento dos preços\") \n",
        "plt.xlabel (\"Anos\") \n",
        "plt.ylabel (\"Preço de venda\")\n",
        "plt.xticks(rotation=45)\n",
        "plt.show()"
      ],
      "metadata": {
        "colab": {
          "base_uri": "https://localhost:8080/",
          "height": 310
        },
        "id": "3NtKMXwuvyPF",
        "outputId": "6ec830d4-a0c9-4964-bf23-f919816af047"
      },
      "execution_count": 54,
      "outputs": [
        {
          "output_type": "display_data",
          "data": {
            "image/png": "[encoded data removed]",
            "text/plain": [
              "<Figure size 432x288 with 1 Axes>"
            ]
          },
          "metadata": {
            "needs_background": "light"
          }
        }
      ]
    },
    {
      "cell_type": "markdown",
      "source": [
        "No gráfico acima podemos verificar o comportamento dos preços de venda no decorrer dos anos. Fica claro que a tendência do preço desde de 2001 a 2019 foi sempre crescente."
      ],
      "metadata": {
        "id": "DtTzDmPxrkHM"
      }
    },
    {
      "cell_type": "markdown",
      "source": [
        "### **Qual o tipo de imóvel mais frequente na cidade de Sydney ?**"
      ],
      "metadata": {
        "id": "VWhUE2PvzNc2"
      }
    },
    {
      "cell_type": "code",
      "source": [
        "data = dict(df_clean['propType'].value_counts())\n",
        "\n",
        "fig = plt.figure(\n",
        "    FigureClass=Waffle,\n",
        "    figsize=(12,8),\n",
        "    rows=8,\n",
        "    columns=18,\n",
        "    cmap_name=(\"tab10\"),\n",
        "    values=data, icons='archway', icon_size=25,\n",
        "    legend={'loc': 'upper left', 'bbox_to_anchor': (1,1)},\n",
        "    icon_legend=True\n",
        ")\n",
        "\n",
        "plt.text(0, 1.2, 'Imóveis mais frequentes',\n",
        "         fontsize=20,\n",
        "         color=\"#787878\",\n",
        "         weight='bold')\n",
        "\n",
        "plt.text(0, 1.16,\n",
        "         \"Os tipos de imóveis mais frequentes na cidade de Sydney.\",\n",
        "         verticalalignment=\"top\",\n",
        "         fontsize=16,\n",
        "         color=\"#A2A1A3\")\n",
        "\n",
        "fig.set_tight_layout(False)\n",
        "plt.show();\n",
        "print((df_clean['propType'].value_counts() / df_clean.shape[0]))"
      ],
      "metadata": {
        "colab": {
          "base_uri": "https://localhost:8080/",
          "height": 559
        },
        "id": "mlSPbpqqnCgl",
        "outputId": "bcf6776c-00d4-432d-d3b2-70de165c7a12"
      },
      "execution_count": 20,
      "outputs": [
        {
          "output_type": "display_data",
          "data": {
            "image/png": "[encoded data removed]",
            "text/plain": [
              "<Waffle size 864x576 with 1 Axes>"
            ]
          },
          "metadata": {
            "needs_background": "light"
          }
        },
        {
          "output_type": "stream",
          "name": "stdout",
          "text": [
            "house                   0.840948\n",
            "townhouse               0.082745\n",
            "duplex/semi-detached    0.036321\n",
            "villa                   0.031295\n",
            "terrace                 0.006674\n",
            "other                   0.001818\n",
            "warehouse               0.000176\n",
            "acreage                 0.000022\n",
            "Name: propType, dtype: float64\n"
          ]
        }
      ]
    },
    {
      "cell_type": "markdown",
      "source": [
        "É possível observar que o tipo de imóvel mais recorrente na cidade de Sydney é **casa** com **84%** das entradas. O segundo tipo é **Townhouse**, uma construção característica do país, parecido com **sobrados** no Brasil, corresponde a **8,27%** do conjunto de dados deste tipo."
      ],
      "metadata": {
        "id": "CmPokH9AUj0q"
      }
    },
    {
      "cell_type": "markdown",
      "source": [
        "### **Qual a localidade mais cara?**"
      ],
      "metadata": {
        "id": "86Xm0j32WFii"
      }
    },
    {
      "cell_type": "markdown",
      "source": [
        "**Bairros mais caros**"
      ],
      "metadata": {
        "id": "BT2paGQtWOEe"
      }
    },
    {
      "cell_type": "code",
      "source": [
        "#Definindo cores\n",
        "CINZA1, CINZA2, CINZA3= \"#CFCDCE\", \"#A2A1A3\", \"#787878\"\n",
        "\n",
        "# plotando o gráfico\n",
        "fig, ax = plt.subplots(figsize= (13,7))\n",
        "n_plots = 10\n",
        "palette = sns.color_palette(\"coolwarm\", n_colors=n_plots)\n",
        "\n",
        "with palette:\n",
        "  # ver preços por bairros, na média\n",
        "  ax = df_clean.groupby(['suburb'])['sellPrice'].mean().sort_values(ascending=True)[670:].plot.barh()\n",
        "\n",
        "  # plotar título\n",
        "  plt.text(-2, 10.8, 'Bairros mais caros de Sydney',\n",
        "          fontsize=18, \n",
        "          color=CINZA3,\n",
        "          weight='bold')\n",
        "\n",
        "  # plotar subtitulo\n",
        "  plt.text(-0.35, 10.5,\n",
        "          \"Os preços médios dos bairros mais caros da\\n\"\n",
        "          \"cidade de Sydney, de acordo com os dados.\",\n",
        "          verticalalignment=\"top\",\n",
        "          fontsize=14,\n",
        "          color=CINZA2)\n",
        "\n",
        "  initialx=0\n",
        "\n",
        "  #remover grid\n",
        "  ax.spines['right'].set_visible(False)\n",
        "  ax.spines['left'].set_visible(False)\n",
        "  ax.spines['top'].set_visible(False)\n",
        "  ax.spines['bottom'].set_visible(False)\n",
        "\n",
        "  #remover titulos\n",
        "  ax.set_ylabel('')    \n",
        "  ax.set_xlabel('')\n",
        "\n",
        "  plt.tick_params(\n",
        "    axis='both',         \n",
        "    which='both',     \n",
        "    bottom=False,      \n",
        "    top=False,         \n",
        "    labelbottom=False) \n",
        "    \n",
        "  #adicionar labels\n",
        "  for p in ax.patches:\n",
        "    ax.text(p.get_width(),initialx+p.get_height()/8,' A$ {:1.0f}'.format(p.get_width()))\n",
        "    initialx+=1\n",
        "  plt.show()"
      ],
      "metadata": {
        "colab": {
          "base_uri": "https://localhost:8080/",
          "height": 476
        },
        "id": "-YW32wI0nCX3",
        "outputId": "98fe0aa4-6876-45c2-c38f-83b3bb272537"
      },
      "execution_count": 21,
      "outputs": [
        {
          "output_type": "display_data",
          "data": {
            "image/png": "[encoded data removed]",
            "text/plain": [
              "<Figure size 936x504 with 1 Axes>"
            ]
          },
          "metadata": {
            "needs_background": "light"
          }
        }
      ]
    },
    {
      "cell_type": "markdown",
      "source": [
        "Os 3 bairros que possuem as propriedades mais cara da cidade de Sydney são: *Milsons Point* com valor médio de AUD 2.500.000,00 | , *Duffys Forest* com valor médio de AUD 2.262.500,00 | *Kurraba Point* com valor médio de AUD 2.250.000, com base nos dados do dataset."
      ],
      "metadata": {
        "id": "iw1z-Oj7pvjS"
      }
    },
    {
      "cell_type": "markdown",
      "source": [
        "**Bairros mais baratos**"
      ],
      "metadata": {
        "id": "pPftFmMRhWiF"
      }
    },
    {
      "cell_type": "code",
      "source": [
        "#Definindo cores\n",
        "CINZA1, CINZA2, CINZA3= \"#CFCDCE\", \"#A2A1A3\", \"#787878\"\n",
        "\n",
        "# plotando o gráfico\n",
        "fig, ax = plt.subplots(figsize= (13,7))\n",
        "n_plots = 10\n",
        "palette = sns.color_palette(\"coolwarm\", n_colors=n_plots)\n",
        "\n",
        "with palette:\n",
        "  # ver preços por bairros, na média\n",
        "  ax = df_clean.groupby(['suburb'])['sellPrice'].mean().sort_values(ascending=False)[670:].plot(kind='barh')\n",
        "\n",
        "  # plotar título\n",
        "  plt.text(-2, 10.8, 'Bairros mais baratos de Sydney',\n",
        "          fontsize=18, \n",
        "          color=CINZA3,\n",
        "          weight='bold')\n",
        "\n",
        "  # plotar subtitulo\n",
        "  plt.text(-0.35, 10.5,\n",
        "          \"Os preços médios dos bairros mais baratos da\\n\"\n",
        "          \"cidade de Sydney, de acordo com os dados.\",\n",
        "          verticalalignment=\"top\",\n",
        "          fontsize=14,\n",
        "          color=CINZA2)\n",
        "\n",
        "  initialx=0\n",
        "\n",
        "  #remover grid\n",
        "  ax.spines['right'].set_visible(False)\n",
        "  ax.spines['left'].set_visible(False)\n",
        "  ax.spines['top'].set_visible(False)\n",
        "  ax.spines['bottom'].set_visible(False)\n",
        "\n",
        "  #remover titulos\n",
        "  ax.set_ylabel('')    \n",
        "  ax.set_xlabel('')\n",
        "\n",
        "  plt.tick_params(\n",
        "    axis='both',         \n",
        "    which='both',     \n",
        "    bottom=False,      \n",
        "    top=False,         \n",
        "    labelbottom=False) \n",
        "    \n",
        "  #adicionar labels\n",
        "  for p in ax.patches:\n",
        "    ax.text(p.get_width(),initialx+p.get_height()/8,' A$ {:1.0f}'.format(p.get_width()))\n",
        "    initialx+=1\n",
        "  plt.show()"
      ],
      "metadata": {
        "colab": {
          "base_uri": "https://localhost:8080/",
          "height": 467
        },
        "id": "g7Ohl5z8er58",
        "outputId": "b618ee87-071c-4901-8ff7-896520d62773"
      },
      "execution_count": 22,
      "outputs": [
        {
          "output_type": "display_data",
          "data": {
            "image/png": "[encoded data removed]",
            "text/plain": [
              "<Figure size 936x504 with 1 Axes>"
            ]
          },
          "metadata": {
            "needs_background": "light"
          }
        }
      ]
    },
    {
      "cell_type": "markdown",
      "source": [
        "Os 3 bairros que possuem as propriedades mais barata da cidade de Sydney são: *Oxenford* com valor médio de AUD 340.500,00 | , *Yanderra* com valor médio de AUD 410.666,00 | *Macquarie* com valor médio de AUD 452.769,00, com base nos dados do dataset."
      ],
      "metadata": {
        "id": "kqoE5KmXt0OL"
      }
    },
    {
      "cell_type": "markdown",
      "source": [
        "### **Qual a correlação existente entre as variáveis?**"
      ],
      "metadata": {
        "id": "0bcvV1E_xSUG"
      }
    },
    {
      "cell_type": "code",
      "source": [
        "# criar uma matriz de correlação\n",
        "corr = df_clean[['sellPrice', 'bed', 'bath', 'car']].corr()\n",
        "\n",
        "display(corr)   "
      ],
      "metadata": {
        "colab": {
          "base_uri": "https://localhost:8080/",
          "height": 175
        },
        "id": "kGcmm0O5pnb7",
        "outputId": "a6a9f3a6-5216-40fa-9568-a6eea0e061b1"
      },
      "execution_count": 23,
      "outputs": [
        {
          "output_type": "display_data",
          "data": {
            "text/html": [
              "<div>\n",
              "<style scoped>\n",
              "    .dataframe tbody tr th:only-of-type {\n",
              "        vertical-align: middle;\n",
              "    }\n",
              "\n",
              "    .dataframe tbody tr th {\n",
              "        vertical-align: top;\n",
              "    }\n",
              "\n",
              "    .dataframe thead th {\n",
              "        text-align: right;\n",
              "    }\n",
              "</style>\n",
              "<table border=\"1\" class=\"dataframe\">\n",
              "  <thead>\n",
              "    <tr style=\"text-align: right;\">\n",
              "      <th></th>\n",
              "      <th>sellPrice</th>\n",
              "      <th>bed</th>\n",
              "      <th>bath</th>\n",
              "      <th>car</th>\n",
              "    </tr>\n",
              "  </thead>\n",
              "  <tbody>\n",
              "    <tr>\n",
              "      <th>sellPrice</th>\n",
              "      <td>1.000000</td>\n",
              "      <td>0.302380</td>\n",
              "      <td>0.355501</td>\n",
              "      <td>0.187877</td>\n",
              "    </tr>\n",
              "    <tr>\n",
              "      <th>bed</th>\n",
              "      <td>0.302380</td>\n",
              "      <td>1.000000</td>\n",
              "      <td>0.624338</td>\n",
              "      <td>0.319499</td>\n",
              "    </tr>\n",
              "    <tr>\n",
              "      <th>bath</th>\n",
              "      <td>0.355501</td>\n",
              "      <td>0.624338</td>\n",
              "      <td>1.000000</td>\n",
              "      <td>0.287942</td>\n",
              "    </tr>\n",
              "    <tr>\n",
              "      <th>car</th>\n",
              "      <td>0.187877</td>\n",
              "      <td>0.319499</td>\n",
              "      <td>0.287942</td>\n",
              "      <td>1.000000</td>\n",
              "    </tr>\n",
              "  </tbody>\n",
              "</table>\n",
              "</div>"
            ],
            "text/plain": [
              "           sellPrice       bed      bath       car\n",
              "sellPrice   1.000000  0.302380  0.355501  0.187877\n",
              "bed         0.302380  1.000000  0.624338  0.319499\n",
              "bath        0.355501  0.624338  1.000000  0.287942\n",
              "car         0.187877  0.319499  0.287942  1.000000"
            ]
          },
          "metadata": {}
        }
      ]
    },
    {
      "cell_type": "code",
      "source": [
        "# plotar um heatmap a partir das correlações\n",
        "fig, ax = plt.subplots(figsize= (13,7))\n",
        "sns.heatmap(corr, cmap='RdBu', fmt='.2f', square=True, linecolor='white', annot=True, vmin=0, vmax=1);\n",
        "\n",
        "\n",
        "# plotar título\n",
        "plt.text(0,-0.5, 'Bairros mais baratos de Sydney',\n",
        "        fontsize=18, \n",
        "        color=CINZA3,\n",
        "        weight='bold')\n",
        "\n",
        "# plotar subtitulo\n",
        "plt.text(0.0, -0.4,\n",
        "        \"Os preços médios dos bairros mais baratos da\\n\"\n",
        "        \"cidade de Sydney, de acordo com os dados.\",\n",
        "        verticalalignment=\"top\",\n",
        "        fontsize=14,\n",
        "        color=CINZA2);"
      ],
      "metadata": {
        "colab": {
          "base_uri": "https://localhost:8080/",
          "height": 490
        },
        "id": "_mFbRCJHer2X",
        "outputId": "5cb38b1e-d4c7-4450-a6a3-06ae1d9c8dc3"
      },
      "execution_count": 24,
      "outputs": [
        {
          "output_type": "display_data",
          "data": {
            "image/png": "[encoded data removed]",
            "text/plain": [
              "<Figure size 936x504 with 2 Axes>"
            ]
          },
          "metadata": {
            "needs_background": "light"
          }
        }
      ]
    },
    {
      "cell_type": "markdown",
      "source": [
        "O principal insight que podemos extrair é a correlação da variável `sellPrice` (variável dependente) em relação às variáveis `bed`, `bath` e `car` (variáveis explicativas).\n",
        "\n",
        "Pontos importantes:\n",
        "\n",
        "\n",
        "*   Podemos verificar um correlação positiva entre todas as variáveis explicativas;\n",
        "*   **sellPrice e bed**: A tendência é que o preço do imóvel seja maior quando há um número maior de quartos;\n",
        "*   **sellPrice e bath**: também existe a tendência que o preço do imóvel seja maior quando há um número maior de banheiros, sendo que essa variável (bath) tem uma correlação mais fortes do que as outras duas (bed e car);\n",
        "*   **sellPrice e car**: existe uma tendência que o preço do imóvel seja maior quanto maior for o espaço da garagem, mesmo sendo uma correlação menor do que as outras variáveis.\n",
        "\n"
      ],
      "metadata": {
        "id": "jatUrKvhxZYy"
      }
    },
    {
      "cell_type": "markdown",
      "source": [
        "### **Conclusão**\n",
        "\n",
        "Portanto, pode-se concluir que realizar uma análise de dados é de extrema importância quando se trata de escolher o imóvel para comprar/vender/alugar, pois contribui para o cliente ficar por dentro dos preços que a localização/bairro estão oferecendo. \n",
        "\n",
        "A limpeza dos dados é extrema importância pois foi possível verificar que em algumas localidades existem propriedades com uma alto valor de venda, que não compõem a maioria dos dados, que poderia distorcer a nossa análise de dados."
      ],
      "metadata": {
        "id": "8lLDmLAfzzBj"
      }
    }
  ]
}
